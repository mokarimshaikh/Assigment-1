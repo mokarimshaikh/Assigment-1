{
 "cells": [
  {
   "cell_type": "code",
   "execution_count": 2,
   "id": "45579635-808a-4dac-80e0-566ae3c41e9e",
   "metadata": {},
   "outputs": [
    {
     "data": {
      "text/plain": [
       "'Q.1) which keyword is used to create function ? create a function to return a list of odd num in \\nthe range of 1 to 25.'"
      ]
     },
     "execution_count": 2,
     "metadata": {},
     "output_type": "execute_result"
    }
   ],
   "source": [
    "\"\"\"Q.1) which keyword is used to create function ? create a function to return a list of odd num in \n",
    "the range of 1 to 25.\"\"\""
   ]
  },
  {
   "cell_type": "code",
   "execution_count": 9,
   "id": "5245ded5-0c08-4b65-a4b2-e39e91b7fa02",
   "metadata": {},
   "outputs": [],
   "source": [
    "# def key word is use to create a function.\n",
    "\n",
    "def test1():\n",
    "    odd=[]\n",
    "    for i in range(1,25):\n",
    "        if i % 2!=0:\n",
    "            odd.append(i)\n",
    "    return odd        \n",
    "    \n",
    "   \n",
    "                \n",
    "                "
   ]
  },
  {
   "cell_type": "code",
   "execution_count": 11,
   "id": "0549a3b8-77d4-4724-bd54-18117d449598",
   "metadata": {},
   "outputs": [
    {
     "data": {
      "text/plain": [
       "[1, 3, 5, 7, 9, 11, 13, 15, 17, 19, 21, 23]"
      ]
     },
     "execution_count": 11,
     "metadata": {},
     "output_type": "execute_result"
    }
   ],
   "source": [
    "test1()"
   ]
  },
  {
   "cell_type": "code",
   "execution_count": 14,
   "id": "e29cb5b6-df20-4ebf-9e21-fc391a93916f",
   "metadata": {},
   "outputs": [],
   "source": [
    " # Q2 why* args & **kwargs is used in some function ? create a function each *args & **kwargs to demostrate their uses? "
   ]
  },
  {
   "cell_type": "code",
   "execution_count": 17,
   "id": "917ba7d7-9a28-4a12-b053-7ec5a8d2db5d",
   "metadata": {},
   "outputs": [
    {
     "data": {
      "text/plain": [
       "' *args & **kwargs are used as a special syntax in function .allow a function \\nto accept a varible number of argument. both are used to \\n handle  differnt type of varible length argument.'"
      ]
     },
     "execution_count": 17,
     "metadata": {},
     "output_type": "execute_result"
    }
   ],
   "source": [
    "\"\"\" *args & **kwargs are used as a special syntax in function .allow a function \n",
    "to accept a varible number of argument. both are used to \n",
    " handle  differnt type of varible length argument.\"\"\""
   ]
  },
  {
   "cell_type": "code",
   "execution_count": 28,
   "id": "6fb97463-8244-4ba9-9052-30b4f064d696",
   "metadata": {},
   "outputs": [],
   "source": [
    "def sum_value(*args):\n",
    "    total=0\n",
    "    for i in args:\n",
    "        total=total+i\n",
    "    return total    \n",
    "    "
   ]
  },
  {
   "cell_type": "code",
   "execution_count": 29,
   "id": "6e6ca61f-8b60-4f6d-99a1-2104c7495dfa",
   "metadata": {},
   "outputs": [
    {
     "data": {
      "text/plain": [
       "36"
      ]
     },
     "execution_count": 29,
     "metadata": {},
     "output_type": "execute_result"
    }
   ],
   "source": [
    "sum_value(1,2,3,4,6,5,7,8)"
   ]
  },
  {
   "cell_type": "code",
   "execution_count": 49,
   "id": "a69a7f09-3e30-4174-96ad-e6417d9a46e2",
   "metadata": {},
   "outputs": [],
   "source": [
    "def person_info(**kwargs):\n",
    "    print(kwargs)\n",
    "    \n",
    "    return person_info"
   ]
  },
  {
   "cell_type": "code",
   "execution_count": 51,
   "id": "7735e3ff-8f9b-48ae-854b-b47ade699095",
   "metadata": {},
   "outputs": [
    {
     "name": "stdout",
     "output_type": "stream",
     "text": [
      "{'name': 'jhon', 'age': 30, 'address': 'azamgarh', 'post': 'koilari'}\n"
     ]
    },
    {
     "data": {
      "text/plain": [
       "<function __main__.person_info(**kwargs)>"
      ]
     },
     "execution_count": 51,
     "metadata": {},
     "output_type": "execute_result"
    }
   ],
   "source": [
    "person_info(name=\"jhon\",age=30,address=\"azamgarh\", post=\"koilari\")"
   ]
  },
  {
   "cell_type": "code",
   "execution_count": 1,
   "id": "5343f907-4e23-4b0d-ab44-54c6315b826a",
   "metadata": {},
   "outputs": [],
   "source": [
    "# Q3"
   ]
  },
  {
   "cell_type": "code",
   "execution_count": 9,
   "id": "8252be22-f235-4253-802f-d21aaa0dbc2a",
   "metadata": {},
   "outputs": [
    {
     "name": "stdout",
     "output_type": "stream",
     "text": [
      "2\n",
      "4\n",
      "6\n",
      "8\n",
      "10\n"
     ]
    }
   ],
   "source": [
    "# An object that allows you to itrate over collection of data such as lists,tuples,dectionarie& sets\n",
    "#iter() method use to initialise the iterator objects & next() method used for iteration\n",
    "l=[2,4,6,8,10,12,14,16,18,20]\n",
    "itr=iter(l)\n",
    "print(next(itr))\n",
    "print(next(itr))\n",
    "print(next(itr))\n",
    "print(next(itr))\n",
    "print(next(itr))"
   ]
  },
  {
   "cell_type": "code",
   "execution_count": 1,
   "id": "2009aa3b-0a39-4c4f-bfb6-5d72bbc7d2cc",
   "metadata": {},
   "outputs": [
    {
     "data": {
      "text/plain": [
       "'Q4. What is a generator function in python? Why yield keyword is used? Give an example of a generator\\nfunction.'"
      ]
     },
     "execution_count": 1,
     "metadata": {},
     "output_type": "execute_result"
    }
   ],
   "source": [
    "'''Q4. What is a generator function in python? Why yield keyword is used? Give an example of a generator\n",
    "function.'''"
   ]
  },
  {
   "cell_type": "code",
   "execution_count": 22,
   "id": "00060449-6a7f-43b5-a649-ade7b8f1a7f0",
   "metadata": {},
   "outputs": [],
   "source": [
    "# A generator function in Python is a special type of function that can be used to generate a series of values.\n",
    "\n",
    "# yield keyword is used to create a generator function. A type of function that is memory efficient and can be used like an iterator object.\n",
    "\n",
    "def square_value(n):\n",
    "    value=[]\n",
    "    for i in range(n+1):\n",
    "        i=i**2\n",
    "        value.append(i)\n",
    "        \n",
    "    return i    \n",
    "        \n",
    "      \n"
   ]
  },
  {
   "cell_type": "code",
   "execution_count": 23,
   "id": "c923b2ab-bddf-4e0f-b0e5-8fb98e774dca",
   "metadata": {},
   "outputs": [
    {
     "data": {
      "text/plain": [
       "25"
      ]
     },
     "execution_count": 23,
     "metadata": {},
     "output_type": "execute_result"
    }
   ],
   "source": [
    "square_value(5)"
   ]
  },
  {
   "cell_type": "code",
   "execution_count": 24,
   "id": "ea1a9cb7-5796-4e20-aef4-4a18a09fa0c0",
   "metadata": {},
   "outputs": [
    {
     "data": {
      "text/plain": [
       "'Q5. Create a generator function for prime numbers less than 1000. Use the next() method to print the\\nfirst 20 prime numbers.'"
      ]
     },
     "execution_count": 24,
     "metadata": {},
     "output_type": "execute_result"
    }
   ],
   "source": [
    "'''Q5. Create a generator function for prime numbers less than 1000. Use the next() method to print the\n",
    "first 20 prime numbers.'''"
   ]
  },
  {
   "cell_type": "code",
   "execution_count": 25,
   "id": "efe304e5-28c6-4bde-8bcb-b70c0f524f9f",
   "metadata": {},
   "outputs": [],
   "source": [
    "# i don't know how to use a next function "
   ]
  },
  {
   "cell_type": "code",
   "execution_count": 26,
   "id": "437c10b0-3527-4555-b0d6-d42a5008a07f",
   "metadata": {},
   "outputs": [],
   "source": [
    "# Q6. Write a python program to print the first 10 Fibonacci numbers using a while loop."
   ]
  },
  {
   "cell_type": "code",
   "execution_count": 27,
   "id": "94cffc72-7727-409c-a2bf-daf02190b68f",
   "metadata": {},
   "outputs": [
    {
     "name": "stdin",
     "output_type": "stream",
     "text": [
      "enter your number 10\n"
     ]
    },
    {
     "name": "stdout",
     "output_type": "stream",
     "text": [
      "0\n",
      "1\n",
      "1\n",
      "2\n",
      "3\n",
      "5\n",
      "8\n",
      "13\n",
      "21\n",
      "34\n"
     ]
    }
   ],
   "source": [
    "number=int(input(\"enter your number\"))\n",
    "\n",
    "a=0\n",
    "b=1\n",
    "counter= 0\n",
    "\n",
    "while counter < number :\n",
    "    print(a)\n",
    "    c=a+b\n",
    "    a=b\n",
    "    b=c\n",
    "    counter=counter+1\n",
    "    \n",
    "    \n",
    "    \n",
    "    "
   ]
  },
  {
   "cell_type": "code",
   "execution_count": 28,
   "id": "1731e205-d18a-4d2b-9e1a-aff38508c8c9",
   "metadata": {},
   "outputs": [
    {
     "data": {
      "text/plain": [
       "\"Q7. Write a List Comprehension to iterate through the given string: ‘pwskills’.\\nExpected output: ['p', 'w', 's', 'k', 'i', 'l', 'l', 's']\""
      ]
     },
     "execution_count": 28,
     "metadata": {},
     "output_type": "execute_result"
    }
   ],
   "source": [
    "'''Q7. Write a List Comprehension to iterate through the given string: ‘pwskills’.\n",
    "Expected output: ['p', 'w', 's', 'k', 'i', 'l', 'l', 's']'''"
   ]
  },
  {
   "cell_type": "code",
   "execution_count": 34,
   "id": "ca7edffe-03dd-4d10-b4cb-2342bd913e22",
   "metadata": {},
   "outputs": [
    {
     "data": {
      "text/plain": [
       "['p', 'w', 's', 'k', 'i', 'l', 'l', 's']"
      ]
     },
     "execution_count": 34,
     "metadata": {},
     "output_type": "execute_result"
    }
   ],
   "source": [
    "s=\"pwskills\"\n",
    "[i for i in s]\n"
   ]
  },
  {
   "cell_type": "code",
   "execution_count": 1,
   "id": "673b92a4-9fa8-4870-8ccb-9ba183fbda77",
   "metadata": {},
   "outputs": [],
   "source": [
    "#Q8. Write a python program to check whether a given number is Palindrome or not using a while loop."
   ]
  },
  {
   "cell_type": "code",
   "execution_count": 8,
   "id": "a0b6677a-b15a-493c-9716-9b2227dfd671",
   "metadata": {},
   "outputs": [
    {
     "name": "stdin",
     "output_type": "stream",
     "text": [
      "enter your number 626\n"
     ]
    },
    {
     "name": "stdout",
     "output_type": "stream",
     "text": [
      "626 is a palindrom number\n"
     ]
    }
   ],
   "source": [
    "n=int(input(\"enter your number\"))\n",
    "reverse=0\n",
    "x=n\n",
    "while n>0:\n",
    "    dig=n%10\n",
    "    reverse=(reverse*10)+dig\n",
    "    n=n//10\n",
    "if (reverse==x):\n",
    "    print(x, \"is a palindrom number\")\n",
    "    \n",
    "else:\n",
    "    print(x , \"not a palindrom number\")\n",
    "    "
   ]
  },
  {
   "cell_type": "code",
   "execution_count": 9,
   "id": "5c337bfe-7384-427a-85f0-8f8843f7f7a8",
   "metadata": {},
   "outputs": [],
   "source": [
    " # Q9. Write a code to print odd numbers from 1 to 100 using list comprehension."
   ]
  },
  {
   "cell_type": "code",
   "execution_count": 15,
   "id": "084696c9-9543-4018-b780-48d687358e1c",
   "metadata": {},
   "outputs": [
    {
     "ename": "SyntaxError",
     "evalue": "invalid syntax (2781074950.py, line 2)",
     "output_type": "error",
     "traceback": [
      "\u001b[0;36m  Cell \u001b[0;32mIn[15], line 2\u001b[0;36m\u001b[0m\n\u001b[0;31m    [ odd_numbers for i in range(1,100) if i %2 !=0 odd_numbers.append(i)]\u001b[0m\n\u001b[0m                                                    ^\u001b[0m\n\u001b[0;31mSyntaxError\u001b[0m\u001b[0;31m:\u001b[0m invalid syntax\n"
     ]
    }
   ],
   "source": [
    "[ i for i in range(1,100) if i % 2!=0]"
   ]
  },
  {
   "cell_type": "code",
   "execution_count": null,
   "id": "68c70344-e98e-4194-af11-5751a2db33ef",
   "metadata": {},
   "outputs": [],
   "source": []
  }
 ],
 "metadata": {
  "kernelspec": {
   "display_name": "Python 3 (ipykernel)",
   "language": "python",
   "name": "python3"
  },
  "language_info": {
   "codemirror_mode": {
    "name": "ipython",
    "version": 3
   },
   "file_extension": ".py",
   "mimetype": "text/x-python",
   "name": "python",
   "nbconvert_exporter": "python",
   "pygments_lexer": "ipython3",
   "version": "3.10.8"
  }
 },
 "nbformat": 4,
 "nbformat_minor": 5
}
